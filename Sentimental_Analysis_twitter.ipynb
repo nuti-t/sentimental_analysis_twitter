{
  "nbformat": 4,
  "nbformat_minor": 0,
  "metadata": {
    "colab": {
      "name": "Sentimental_Analysis_twitter.ipynb",
      "provenance": [],
      "collapsed_sections": []
    },
    "kernelspec": {
      "name": "python3",
      "display_name": "Python 3"
    },
    "language_info": {
      "name": "python"
    }
  },
  "cells": [
    {
      "cell_type": "markdown",
      "source": [
        "## **Sentimental Analysis for tweets**\n",
        "\n",
        "This project is Sentimental Analysis from tweets on twitter. I want to predict if any person depressed or not from their tweets on twitter by using Machine Learning. This would be very helpful for detecting depressed people from their message.\n",
        "\n",
        "Dataset from: https://www.kaggle.com/datasets/gargmanas/sentimental-analysis-for-tweets?resource=download\n",
        "\n",
        "This code is authorized by Nuti Taynawa"
      ],
      "metadata": {
        "id": "Sw3Ou7wRPz5-"
      }
    },
    {
      "cell_type": "markdown",
      "source": [
        "### Data Preparation"
      ],
      "metadata": {
        "id": "TT3asg5ESfZU"
      }
    },
    {
      "cell_type": "code",
      "source": [
        "# Import importance libraries\n",
        "\n",
        "import pandas as pd\n",
        "from nltk.tokenize import word_tokenize"
      ],
      "metadata": {
        "id": "r40UBhvc5K37"
      },
      "execution_count": null,
      "outputs": []
    },
    {
      "cell_type": "code",
      "source": [
        "df = pd.read_csv(\"/content/sentiment_tweets3.csv\")\n",
        "df.head(10)"
      ],
      "metadata": {
        "colab": {
          "base_uri": "https://localhost:8080/",
          "height": 363
        },
        "id": "DjlZ_Y7X7vTX",
        "outputId": "64b8374d-520e-471e-9db4-cda3fd4a26c0"
      },
      "execution_count": null,
      "outputs": [
        {
          "output_type": "execute_result",
          "data": {
            "text/plain": [
              "   Index                                 message to examine  \\\n",
              "0    106  just had a real good moment. i missssssssss hi...   \n",
              "1    217         is reading manga  http://plurk.com/p/mzp1e   \n",
              "2    220  @comeagainjen http://twitpic.com/2y2lx - http:...   \n",
              "3    288  @lapcat Need to send 'em to my accountant tomo...   \n",
              "4    540      ADD ME ON MYSPACE!!!  myspace.com/LookThunder   \n",
              "5    624              so sleepy. good times tonight though    \n",
              "6    701  @SilkCharm re: #nbn as someone already said, d...   \n",
              "7    808                 23 or 24ï¿½C possible today. Nice    \n",
              "8   1193        nite twitterville  workout in the am  -ciao   \n",
              "9   1324    @daNanner Night, darlin'!  Sweet dreams to you    \n",
              "\n",
              "   label (depression result)  \n",
              "0                          0  \n",
              "1                          0  \n",
              "2                          0  \n",
              "3                          0  \n",
              "4                          0  \n",
              "5                          0  \n",
              "6                          0  \n",
              "7                          0  \n",
              "8                          0  \n",
              "9                          0  "
            ],
            "text/html": [
              "\n",
              "  <div id=\"df-87c0f74e-95d8-42ca-b2a9-1f33b7a270db\">\n",
              "    <div class=\"colab-df-container\">\n",
              "      <div>\n",
              "<style scoped>\n",
              "    .dataframe tbody tr th:only-of-type {\n",
              "        vertical-align: middle;\n",
              "    }\n",
              "\n",
              "    .dataframe tbody tr th {\n",
              "        vertical-align: top;\n",
              "    }\n",
              "\n",
              "    .dataframe thead th {\n",
              "        text-align: right;\n",
              "    }\n",
              "</style>\n",
              "<table border=\"1\" class=\"dataframe\">\n",
              "  <thead>\n",
              "    <tr style=\"text-align: right;\">\n",
              "      <th></th>\n",
              "      <th>Index</th>\n",
              "      <th>message to examine</th>\n",
              "      <th>label (depression result)</th>\n",
              "    </tr>\n",
              "  </thead>\n",
              "  <tbody>\n",
              "    <tr>\n",
              "      <th>0</th>\n",
              "      <td>106</td>\n",
              "      <td>just had a real good moment. i missssssssss hi...</td>\n",
              "      <td>0</td>\n",
              "    </tr>\n",
              "    <tr>\n",
              "      <th>1</th>\n",
              "      <td>217</td>\n",
              "      <td>is reading manga  http://plurk.com/p/mzp1e</td>\n",
              "      <td>0</td>\n",
              "    </tr>\n",
              "    <tr>\n",
              "      <th>2</th>\n",
              "      <td>220</td>\n",
              "      <td>@comeagainjen http://twitpic.com/2y2lx - http:...</td>\n",
              "      <td>0</td>\n",
              "    </tr>\n",
              "    <tr>\n",
              "      <th>3</th>\n",
              "      <td>288</td>\n",
              "      <td>@lapcat Need to send 'em to my accountant tomo...</td>\n",
              "      <td>0</td>\n",
              "    </tr>\n",
              "    <tr>\n",
              "      <th>4</th>\n",
              "      <td>540</td>\n",
              "      <td>ADD ME ON MYSPACE!!!  myspace.com/LookThunder</td>\n",
              "      <td>0</td>\n",
              "    </tr>\n",
              "    <tr>\n",
              "      <th>5</th>\n",
              "      <td>624</td>\n",
              "      <td>so sleepy. good times tonight though</td>\n",
              "      <td>0</td>\n",
              "    </tr>\n",
              "    <tr>\n",
              "      <th>6</th>\n",
              "      <td>701</td>\n",
              "      <td>@SilkCharm re: #nbn as someone already said, d...</td>\n",
              "      <td>0</td>\n",
              "    </tr>\n",
              "    <tr>\n",
              "      <th>7</th>\n",
              "      <td>808</td>\n",
              "      <td>23 or 24ï¿½C possible today. Nice</td>\n",
              "      <td>0</td>\n",
              "    </tr>\n",
              "    <tr>\n",
              "      <th>8</th>\n",
              "      <td>1193</td>\n",
              "      <td>nite twitterville  workout in the am  -ciao</td>\n",
              "      <td>0</td>\n",
              "    </tr>\n",
              "    <tr>\n",
              "      <th>9</th>\n",
              "      <td>1324</td>\n",
              "      <td>@daNanner Night, darlin'!  Sweet dreams to you</td>\n",
              "      <td>0</td>\n",
              "    </tr>\n",
              "  </tbody>\n",
              "</table>\n",
              "</div>\n",
              "      <button class=\"colab-df-convert\" onclick=\"convertToInteractive('df-87c0f74e-95d8-42ca-b2a9-1f33b7a270db')\"\n",
              "              title=\"Convert this dataframe to an interactive table.\"\n",
              "              style=\"display:none;\">\n",
              "        \n",
              "  <svg xmlns=\"http://www.w3.org/2000/svg\" height=\"24px\"viewBox=\"0 0 24 24\"\n",
              "       width=\"24px\">\n",
              "    <path d=\"M0 0h24v24H0V0z\" fill=\"none\"/>\n",
              "    <path d=\"M18.56 5.44l.94 2.06.94-2.06 2.06-.94-2.06-.94-.94-2.06-.94 2.06-2.06.94zm-11 1L8.5 8.5l.94-2.06 2.06-.94-2.06-.94L8.5 2.5l-.94 2.06-2.06.94zm10 10l.94 2.06.94-2.06 2.06-.94-2.06-.94-.94-2.06-.94 2.06-2.06.94z\"/><path d=\"M17.41 7.96l-1.37-1.37c-.4-.4-.92-.59-1.43-.59-.52 0-1.04.2-1.43.59L10.3 9.45l-7.72 7.72c-.78.78-.78 2.05 0 2.83L4 21.41c.39.39.9.59 1.41.59.51 0 1.02-.2 1.41-.59l7.78-7.78 2.81-2.81c.8-.78.8-2.07 0-2.86zM5.41 20L4 18.59l7.72-7.72 1.47 1.35L5.41 20z\"/>\n",
              "  </svg>\n",
              "      </button>\n",
              "      \n",
              "  <style>\n",
              "    .colab-df-container {\n",
              "      display:flex;\n",
              "      flex-wrap:wrap;\n",
              "      gap: 12px;\n",
              "    }\n",
              "\n",
              "    .colab-df-convert {\n",
              "      background-color: #E8F0FE;\n",
              "      border: none;\n",
              "      border-radius: 50%;\n",
              "      cursor: pointer;\n",
              "      display: none;\n",
              "      fill: #1967D2;\n",
              "      height: 32px;\n",
              "      padding: 0 0 0 0;\n",
              "      width: 32px;\n",
              "    }\n",
              "\n",
              "    .colab-df-convert:hover {\n",
              "      background-color: #E2EBFA;\n",
              "      box-shadow: 0px 1px 2px rgba(60, 64, 67, 0.3), 0px 1px 3px 1px rgba(60, 64, 67, 0.15);\n",
              "      fill: #174EA6;\n",
              "    }\n",
              "\n",
              "    [theme=dark] .colab-df-convert {\n",
              "      background-color: #3B4455;\n",
              "      fill: #D2E3FC;\n",
              "    }\n",
              "\n",
              "    [theme=dark] .colab-df-convert:hover {\n",
              "      background-color: #434B5C;\n",
              "      box-shadow: 0px 1px 3px 1px rgba(0, 0, 0, 0.15);\n",
              "      filter: drop-shadow(0px 1px 2px rgba(0, 0, 0, 0.3));\n",
              "      fill: #FFFFFF;\n",
              "    }\n",
              "  </style>\n",
              "\n",
              "      <script>\n",
              "        const buttonEl =\n",
              "          document.querySelector('#df-87c0f74e-95d8-42ca-b2a9-1f33b7a270db button.colab-df-convert');\n",
              "        buttonEl.style.display =\n",
              "          google.colab.kernel.accessAllowed ? 'block' : 'none';\n",
              "\n",
              "        async function convertToInteractive(key) {\n",
              "          const element = document.querySelector('#df-87c0f74e-95d8-42ca-b2a9-1f33b7a270db');\n",
              "          const dataTable =\n",
              "            await google.colab.kernel.invokeFunction('convertToInteractive',\n",
              "                                                     [key], {});\n",
              "          if (!dataTable) return;\n",
              "\n",
              "          const docLinkHtml = 'Like what you see? Visit the ' +\n",
              "            '<a target=\"_blank\" href=https://colab.research.google.com/notebooks/data_table.ipynb>data table notebook</a>'\n",
              "            + ' to learn more about interactive tables.';\n",
              "          element.innerHTML = '';\n",
              "          dataTable['output_type'] = 'display_data';\n",
              "          await google.colab.output.renderOutput(dataTable, element);\n",
              "          const docLink = document.createElement('div');\n",
              "          docLink.innerHTML = docLinkHtml;\n",
              "          element.appendChild(docLink);\n",
              "        }\n",
              "      </script>\n",
              "    </div>\n",
              "  </div>\n",
              "  "
            ]
          },
          "metadata": {},
          "execution_count": 58
        }
      ]
    },
    {
      "cell_type": "markdown",
      "source": [
        "The data is seem very uncleaned, it is included special characters and some clickbait tweets, therefore I have to clean the data first.\n",
        "\n",
        "I will clean the data by removing special characters (like @, !, # etc.), clickbait tweets (removing http:// and www.) and tagging (for example @Donald) with Regular Expression."
      ],
      "metadata": {
        "id": "lkr7tdCdStKe"
      }
    },
    {
      "cell_type": "code",
      "source": [
        "# Applying Regular Expression on the message\n",
        "\n",
        "df['message to examine'] = df['message to examine'].str.replace(r'@[A-Za-z0-9]+|http?://\\S+|www.\\S+|[^A-Za-z0-9 ]+',\"\") \n",
        "df.head(10)"
      ],
      "metadata": {
        "colab": {
          "base_uri": "https://localhost:8080/",
          "height": 399
        },
        "id": "L-c5hpD59Xtf",
        "outputId": "caff6486-505a-4cc1-b4ee-d8656b4999e9"
      },
      "execution_count": null,
      "outputs": [
        {
          "output_type": "stream",
          "name": "stderr",
          "text": [
            "/usr/local/lib/python3.7/dist-packages/ipykernel_launcher.py:3: FutureWarning: The default value of regex will change from True to False in a future version.\n",
            "  This is separate from the ipykernel package so we can avoid doing imports until\n"
          ]
        },
        {
          "output_type": "execute_result",
          "data": {
            "text/plain": [
              "   Index                                 message to examine  \\\n",
              "0    106  just had a real good moment i missssssssss him...   \n",
              "1    217                                 is reading manga     \n",
              "2    220                                                      \n",
              "3    288   Need to send em to my accountant tomorrow Odd...   \n",
              "4    540           ADD ME ON MYSPACE  myspacecomLookThunder   \n",
              "5    624               so sleepy good times tonight though    \n",
              "6    701   re nbn as someone already said does fiber to ...   \n",
              "7    808                     23 or 24C possible today Nice    \n",
              "8   1193         nite twitterville  workout in the am  ciao   \n",
              "9   1324                 Night darlin  Sweet dreams to you    \n",
              "\n",
              "   label (depression result)  \n",
              "0                          0  \n",
              "1                          0  \n",
              "2                          0  \n",
              "3                          0  \n",
              "4                          0  \n",
              "5                          0  \n",
              "6                          0  \n",
              "7                          0  \n",
              "8                          0  \n",
              "9                          0  "
            ],
            "text/html": [
              "\n",
              "  <div id=\"df-c4b83c25-0e95-435e-ac34-8eb38636f551\">\n",
              "    <div class=\"colab-df-container\">\n",
              "      <div>\n",
              "<style scoped>\n",
              "    .dataframe tbody tr th:only-of-type {\n",
              "        vertical-align: middle;\n",
              "    }\n",
              "\n",
              "    .dataframe tbody tr th {\n",
              "        vertical-align: top;\n",
              "    }\n",
              "\n",
              "    .dataframe thead th {\n",
              "        text-align: right;\n",
              "    }\n",
              "</style>\n",
              "<table border=\"1\" class=\"dataframe\">\n",
              "  <thead>\n",
              "    <tr style=\"text-align: right;\">\n",
              "      <th></th>\n",
              "      <th>Index</th>\n",
              "      <th>message to examine</th>\n",
              "      <th>label (depression result)</th>\n",
              "    </tr>\n",
              "  </thead>\n",
              "  <tbody>\n",
              "    <tr>\n",
              "      <th>0</th>\n",
              "      <td>106</td>\n",
              "      <td>just had a real good moment i missssssssss him...</td>\n",
              "      <td>0</td>\n",
              "    </tr>\n",
              "    <tr>\n",
              "      <th>1</th>\n",
              "      <td>217</td>\n",
              "      <td>is reading manga</td>\n",
              "      <td>0</td>\n",
              "    </tr>\n",
              "    <tr>\n",
              "      <th>2</th>\n",
              "      <td>220</td>\n",
              "      <td></td>\n",
              "      <td>0</td>\n",
              "    </tr>\n",
              "    <tr>\n",
              "      <th>3</th>\n",
              "      <td>288</td>\n",
              "      <td>Need to send em to my accountant tomorrow Odd...</td>\n",
              "      <td>0</td>\n",
              "    </tr>\n",
              "    <tr>\n",
              "      <th>4</th>\n",
              "      <td>540</td>\n",
              "      <td>ADD ME ON MYSPACE  myspacecomLookThunder</td>\n",
              "      <td>0</td>\n",
              "    </tr>\n",
              "    <tr>\n",
              "      <th>5</th>\n",
              "      <td>624</td>\n",
              "      <td>so sleepy good times tonight though</td>\n",
              "      <td>0</td>\n",
              "    </tr>\n",
              "    <tr>\n",
              "      <th>6</th>\n",
              "      <td>701</td>\n",
              "      <td>re nbn as someone already said does fiber to ...</td>\n",
              "      <td>0</td>\n",
              "    </tr>\n",
              "    <tr>\n",
              "      <th>7</th>\n",
              "      <td>808</td>\n",
              "      <td>23 or 24C possible today Nice</td>\n",
              "      <td>0</td>\n",
              "    </tr>\n",
              "    <tr>\n",
              "      <th>8</th>\n",
              "      <td>1193</td>\n",
              "      <td>nite twitterville  workout in the am  ciao</td>\n",
              "      <td>0</td>\n",
              "    </tr>\n",
              "    <tr>\n",
              "      <th>9</th>\n",
              "      <td>1324</td>\n",
              "      <td>Night darlin  Sweet dreams to you</td>\n",
              "      <td>0</td>\n",
              "    </tr>\n",
              "  </tbody>\n",
              "</table>\n",
              "</div>\n",
              "      <button class=\"colab-df-convert\" onclick=\"convertToInteractive('df-c4b83c25-0e95-435e-ac34-8eb38636f551')\"\n",
              "              title=\"Convert this dataframe to an interactive table.\"\n",
              "              style=\"display:none;\">\n",
              "        \n",
              "  <svg xmlns=\"http://www.w3.org/2000/svg\" height=\"24px\"viewBox=\"0 0 24 24\"\n",
              "       width=\"24px\">\n",
              "    <path d=\"M0 0h24v24H0V0z\" fill=\"none\"/>\n",
              "    <path d=\"M18.56 5.44l.94 2.06.94-2.06 2.06-.94-2.06-.94-.94-2.06-.94 2.06-2.06.94zm-11 1L8.5 8.5l.94-2.06 2.06-.94-2.06-.94L8.5 2.5l-.94 2.06-2.06.94zm10 10l.94 2.06.94-2.06 2.06-.94-2.06-.94-.94-2.06-.94 2.06-2.06.94z\"/><path d=\"M17.41 7.96l-1.37-1.37c-.4-.4-.92-.59-1.43-.59-.52 0-1.04.2-1.43.59L10.3 9.45l-7.72 7.72c-.78.78-.78 2.05 0 2.83L4 21.41c.39.39.9.59 1.41.59.51 0 1.02-.2 1.41-.59l7.78-7.78 2.81-2.81c.8-.78.8-2.07 0-2.86zM5.41 20L4 18.59l7.72-7.72 1.47 1.35L5.41 20z\"/>\n",
              "  </svg>\n",
              "      </button>\n",
              "      \n",
              "  <style>\n",
              "    .colab-df-container {\n",
              "      display:flex;\n",
              "      flex-wrap:wrap;\n",
              "      gap: 12px;\n",
              "    }\n",
              "\n",
              "    .colab-df-convert {\n",
              "      background-color: #E8F0FE;\n",
              "      border: none;\n",
              "      border-radius: 50%;\n",
              "      cursor: pointer;\n",
              "      display: none;\n",
              "      fill: #1967D2;\n",
              "      height: 32px;\n",
              "      padding: 0 0 0 0;\n",
              "      width: 32px;\n",
              "    }\n",
              "\n",
              "    .colab-df-convert:hover {\n",
              "      background-color: #E2EBFA;\n",
              "      box-shadow: 0px 1px 2px rgba(60, 64, 67, 0.3), 0px 1px 3px 1px rgba(60, 64, 67, 0.15);\n",
              "      fill: #174EA6;\n",
              "    }\n",
              "\n",
              "    [theme=dark] .colab-df-convert {\n",
              "      background-color: #3B4455;\n",
              "      fill: #D2E3FC;\n",
              "    }\n",
              "\n",
              "    [theme=dark] .colab-df-convert:hover {\n",
              "      background-color: #434B5C;\n",
              "      box-shadow: 0px 1px 3px 1px rgba(0, 0, 0, 0.15);\n",
              "      filter: drop-shadow(0px 1px 2px rgba(0, 0, 0, 0.3));\n",
              "      fill: #FFFFFF;\n",
              "    }\n",
              "  </style>\n",
              "\n",
              "      <script>\n",
              "        const buttonEl =\n",
              "          document.querySelector('#df-c4b83c25-0e95-435e-ac34-8eb38636f551 button.colab-df-convert');\n",
              "        buttonEl.style.display =\n",
              "          google.colab.kernel.accessAllowed ? 'block' : 'none';\n",
              "\n",
              "        async function convertToInteractive(key) {\n",
              "          const element = document.querySelector('#df-c4b83c25-0e95-435e-ac34-8eb38636f551');\n",
              "          const dataTable =\n",
              "            await google.colab.kernel.invokeFunction('convertToInteractive',\n",
              "                                                     [key], {});\n",
              "          if (!dataTable) return;\n",
              "\n",
              "          const docLinkHtml = 'Like what you see? Visit the ' +\n",
              "            '<a target=\"_blank\" href=https://colab.research.google.com/notebooks/data_table.ipynb>data table notebook</a>'\n",
              "            + ' to learn more about interactive tables.';\n",
              "          element.innerHTML = '';\n",
              "          dataTable['output_type'] = 'display_data';\n",
              "          await google.colab.output.renderOutput(dataTable, element);\n",
              "          const docLink = document.createElement('div');\n",
              "          docLink.innerHTML = docLinkHtml;\n",
              "          element.appendChild(docLink);\n",
              "        }\n",
              "      </script>\n",
              "    </div>\n",
              "  </div>\n",
              "  "
            ]
          },
          "metadata": {},
          "execution_count": 59
        }
      ]
    },
    {
      "cell_type": "markdown",
      "source": [
        "The data is looks cleaner now, it's time for data preprocessing to changing the message to a proper form."
      ],
      "metadata": {
        "id": "rm-mHD27TtFH"
      }
    },
    {
      "cell_type": "code",
      "source": [
        "import nltk\n",
        "import numpy as np\n",
        "nltk.download('punkt')\n",
        "\n",
        "# Doing word tokenization\n",
        "\n",
        "message_list = df['message to examine'].to_list()\n",
        "word_list = list()\n",
        "sentimental_label = list()\n",
        "for i in range(len(message_list)):\n",
        "  temp_str = word_tokenize(message_list[i])\n",
        "  if temp_str:\n",
        "    sentimental_label.append(df['label (depression result)'].to_list()[i])\n",
        "    word_list.append(temp_str)\n",
        "\n",
        "# Assert will be raised if I preprocess the data wrong.\n",
        "\n",
        "assert len(sentimental_label) == np.shape(word_list)[0], \"size of label and preprocessed data is not equal!!\""
      ],
      "metadata": {
        "colab": {
          "base_uri": "https://localhost:8080/"
        },
        "id": "MAynu2f9Hhi9",
        "outputId": "87e9dee7-998b-4d97-ec4d-fb80a6e7115a"
      },
      "execution_count": null,
      "outputs": [
        {
          "output_type": "stream",
          "name": "stdout",
          "text": [
            "[nltk_data] Downloading package punkt to /root/nltk_data...\n",
            "[nltk_data]   Package punkt is already up-to-date!\n"
          ]
        },
        {
          "output_type": "stream",
          "name": "stderr",
          "text": [
            "/usr/local/lib/python3.7/dist-packages/numpy/core/fromnumeric.py:1970: VisibleDeprecationWarning: Creating an ndarray from ragged nested sequences (which is a list-or-tuple of lists-or-tuples-or ndarrays with different lengths or shapes) is deprecated. If you meant to do this, you must specify 'dtype=object' when creating the ndarray.\n",
            "  result = asarray(a).shape\n"
          ]
        }
      ]
    },
    {
      "cell_type": "code",
      "source": [
        "# Finding how many word in the dataset\n",
        "\n",
        "unique, counts = np.unique(np.array(sum(word_list, [])), return_counts=True)\n",
        "result = np.column_stack((unique, counts)) \n",
        "word_range = result.shape[0]\n",
        "print(\"There are {} word in the dataset\".format(word_range))"
      ],
      "metadata": {
        "id": "Nzzqb1b0he3K",
        "colab": {
          "base_uri": "https://localhost:8080/"
        },
        "outputId": "9f98882b-dad0-42be-a8b9-1306f4a8c114"
      },
      "execution_count": null,
      "outputs": [
        {
          "output_type": "stream",
          "name": "stdout",
          "text": [
            "There are 21553 word in the dataset\n"
          ]
        }
      ]
    },
    {
      "cell_type": "code",
      "source": [
        "# Finding the maximum length of sentence in the messages\n",
        "\n",
        "max_length = max(len(x) for x in word_list)\n",
        "print(\"Maximum length in the sentence is {}\".format(max_length))"
      ],
      "metadata": {
        "colab": {
          "base_uri": "https://localhost:8080/"
        },
        "id": "2D0UY_pklhgQ",
        "outputId": "1350033a-c0c0-480f-b610-d49916a06ecc"
      },
      "execution_count": null,
      "outputs": [
        {
          "output_type": "stream",
          "name": "stdout",
          "text": [
            "Maximum length in the sentence is 69\n"
          ]
        }
      ]
    },
    {
      "cell_type": "code",
      "source": [
        "from tensorflow.keras.preprocessing.text import one_hot\n",
        "from tensorflow.keras.preprocessing.sequence import pad_sequences\n",
        "\n",
        "# Preprocessing text data with pad sequence\n",
        "\n",
        "token_list = [' '.join(str) for str in word_list]\n",
        "onehot_token = [one_hot(words, word_range)for words in token_list]\n",
        "pad_sec_tk = pad_sequences(onehot_token,max_length)"
      ],
      "metadata": {
        "id": "4t9IWnGEOR9O"
      },
      "execution_count": null,
      "outputs": []
    },
    {
      "cell_type": "code",
      "source": [
        "pad_sec_tk"
      ],
      "metadata": {
        "colab": {
          "base_uri": "https://localhost:8080/"
        },
        "id": "683fBzErmOv5",
        "outputId": "931c990e-32e3-4caa-e979-87e663f6a524"
      },
      "execution_count": null,
      "outputs": [
        {
          "output_type": "execute_result",
          "data": {
            "text/plain": [
              "array([[    0,     0,     0, ..., 14519, 18958,  4350],\n",
              "       [    0,     0,     0, ...,    87,  6712,  5224],\n",
              "       [    0,     0,     0, ..., 15546, 10092,  2787],\n",
              "       ...,\n",
              "       [    0,     0,     0, ..., 12085,  2892, 13231],\n",
              "       [    0,     0,     0, ...,  6894,  4304, 20933],\n",
              "       [    0,     0,     0, ...,     0,     0,  6684]], dtype=int32)"
            ]
          },
          "metadata": {},
          "execution_count": 64
        }
      ]
    },
    {
      "cell_type": "code",
      "source": [
        "from pandas.core.common import random_state\n",
        "from sklearn.model_selection import train_test_split\n",
        "\n",
        "# Train test split with ratio 66:33 or 1:3\n",
        "\n",
        "x_train, x_test, y_train, y_test = train_test_split(pad_sec_tk,np.array(sentimental_label),test_size = 0.33, random_state = 42)"
      ],
      "metadata": {
        "id": "0AKEQm91oIX5"
      },
      "execution_count": null,
      "outputs": []
    },
    {
      "cell_type": "markdown",
      "source": [
        "Now the data is ready for training with Machine Learning 🙂."
      ],
      "metadata": {
        "id": "f41IXmvjWtKa"
      }
    },
    {
      "cell_type": "markdown",
      "source": [
        "### Model Development\n",
        "\n",
        "For this task I will classify depression message with LSTM model, because our text is the sequence of words and LSTM is also good for handling with the sequence data."
      ],
      "metadata": {
        "id": "ZNMA4iikXICw"
      }
    },
    {
      "cell_type": "code",
      "source": [
        "from tensorflow.keras.layers import LSTM, Embedding, Dense, Dropout\n",
        "from tensorflow.keras.models import Sequential\n",
        "\n",
        "model = Sequential()\n",
        "model.add(Embedding(word_range, 50, input_length = max_length))\n",
        "model.add(LSTM(64))\n",
        "model.add(Dropout(0.3))\n",
        "model.add(Dense(1, activation = 'sigmoid'))\n",
        "model.summary()\n",
        "\n",
        "model.compile(loss = 'binary_crossentropy', optimizer = 'adam', metrics=['accuracy'])\n",
        "model.fit(x_train,y_train,validation_split = 0.1,batch_size = 32,epochs = 10)"
      ],
      "metadata": {
        "colab": {
          "base_uri": "https://localhost:8080/"
        },
        "id": "0Avqg_a0mnpJ",
        "outputId": "74c63b84-aa63-42b0-de3a-0724263fa281"
      },
      "execution_count": null,
      "outputs": [
        {
          "output_type": "stream",
          "name": "stdout",
          "text": [
            "Model: \"sequential_4\"\n",
            "_________________________________________________________________\n",
            " Layer (type)                Output Shape              Param #   \n",
            "=================================================================\n",
            " embedding_4 (Embedding)     (None, 69, 50)            1077650   \n",
            "                                                                 \n",
            " lstm_4 (LSTM)               (None, 64)                29440     \n",
            "                                                                 \n",
            " dropout_3 (Dropout)         (None, 64)                0         \n",
            "                                                                 \n",
            " dense_4 (Dense)             (None, 1)                 65        \n",
            "                                                                 \n",
            "=================================================================\n",
            "Total params: 1,107,155\n",
            "Trainable params: 1,107,155\n",
            "Non-trainable params: 0\n",
            "_________________________________________________________________\n",
            "Epoch 1/10\n",
            "194/194 [==============================] - 13s 55ms/step - loss: 0.2758 - accuracy: 0.8867 - val_loss: 0.0470 - val_accuracy: 0.9899\n",
            "Epoch 2/10\n",
            "194/194 [==============================] - 10s 53ms/step - loss: 0.0248 - accuracy: 0.9945 - val_loss: 0.0392 - val_accuracy: 0.9884\n",
            "Epoch 3/10\n",
            "194/194 [==============================] - 10s 51ms/step - loss: 0.0082 - accuracy: 0.9984 - val_loss: 0.0759 - val_accuracy: 0.9899\n",
            "Epoch 4/10\n",
            "194/194 [==============================] - 10s 51ms/step - loss: 0.0042 - accuracy: 0.9994 - val_loss: 0.0871 - val_accuracy: 0.9855\n",
            "Epoch 5/10\n",
            "194/194 [==============================] - 10s 53ms/step - loss: 0.0056 - accuracy: 0.9987 - val_loss: 0.0674 - val_accuracy: 0.9870\n",
            "Epoch 6/10\n",
            "194/194 [==============================] - 10s 51ms/step - loss: 0.0018 - accuracy: 0.9995 - val_loss: 0.0918 - val_accuracy: 0.9841\n",
            "Epoch 7/10\n",
            "194/194 [==============================] - 10s 50ms/step - loss: 0.0017 - accuracy: 0.9995 - val_loss: 0.0833 - val_accuracy: 0.9841\n",
            "Epoch 8/10\n",
            "194/194 [==============================] - 10s 52ms/step - loss: 0.0011 - accuracy: 0.9997 - val_loss: 0.0982 - val_accuracy: 0.9855\n",
            "Epoch 9/10\n",
            "194/194 [==============================] - 10s 51ms/step - loss: 9.6013e-04 - accuracy: 0.9997 - val_loss: 0.0934 - val_accuracy: 0.9870\n",
            "Epoch 10/10\n",
            "194/194 [==============================] - 10s 51ms/step - loss: 7.7686e-04 - accuracy: 0.9997 - val_loss: 0.1163 - val_accuracy: 0.9812\n"
          ]
        },
        {
          "output_type": "execute_result",
          "data": {
            "text/plain": [
              "<keras.callbacks.History at 0x7f9263344450>"
            ]
          },
          "metadata": {},
          "execution_count": 66
        }
      ]
    },
    {
      "cell_type": "markdown",
      "source": [
        "### Model Evaluation\n",
        "\n"
      ],
      "metadata": {
        "id": "A42UCRG1YRDp"
      }
    },
    {
      "cell_type": "code",
      "source": [
        "# Evaluate the model with testing set\n",
        "\n",
        "model.evaluate(x_test,y_test)"
      ],
      "metadata": {
        "colab": {
          "base_uri": "https://localhost:8080/"
        },
        "id": "rAGvwFJwq0Kq",
        "outputId": "b123a91f-5122-472b-eab1-9d698664a150"
      },
      "execution_count": null,
      "outputs": [
        {
          "output_type": "stream",
          "name": "stdout",
          "text": [
            "107/107 [==============================] - 1s 11ms/step - loss: 0.0782 - accuracy: 0.9868\n"
          ]
        },
        {
          "output_type": "execute_result",
          "data": {
            "text/plain": [
              "[0.0782068744301796, 0.9867569208145142]"
            ]
          },
          "metadata": {},
          "execution_count": 67
        }
      ]
    },
    {
      "cell_type": "code",
      "source": [
        "# Model prediction\n",
        "\n",
        "y_hat = model.predict(x_test)"
      ],
      "metadata": {
        "id": "8k3wua3_QF7i"
      },
      "execution_count": null,
      "outputs": []
    },
    {
      "cell_type": "code",
      "source": [
        "# Changing from propability output to binary label(0 and 1)\n",
        "\n",
        "y_pred = list()\n",
        "for item in y_hat:\n",
        "  if item >= 0.5:\n",
        "    y_pred.append(1)\n",
        "  else:\n",
        "    y_pred.append(0)"
      ],
      "metadata": {
        "id": "UMpE8lx5YlTL"
      },
      "execution_count": null,
      "outputs": []
    },
    {
      "cell_type": "code",
      "source": [
        "from sklearn.metrics import classification_report\n",
        "\n",
        "# Showing classification report\n",
        "print(classification_report(y_test,y_pred))"
      ],
      "metadata": {
        "colab": {
          "base_uri": "https://localhost:8080/"
        },
        "id": "RVRRBd1EQL-S",
        "outputId": "7328f74a-1095-466d-aded-213f6a113b9e"
      },
      "execution_count": null,
      "outputs": [
        {
          "output_type": "stream",
          "name": "stdout",
          "text": [
            "              precision    recall  f1-score   support\n",
            "\n",
            "           0       0.99      0.99      0.99      2641\n",
            "           1       0.97      0.97      0.97       757\n",
            "\n",
            "    accuracy                           0.99      3398\n",
            "   macro avg       0.98      0.98      0.98      3398\n",
            "weighted avg       0.99      0.99      0.99      3398\n",
            "\n"
          ]
        }
      ]
    },
    {
      "cell_type": "markdown",
      "source": [
        "My model is working well. It did 99% accuracy which is very high 😄"
      ],
      "metadata": {
        "id": "FCqswQJTbjff"
      }
    },
    {
      "cell_type": "code",
      "source": [
        "import seaborn as sns\n",
        "import matplotlib.pyplot as plt\n",
        "\n",
        "# Result visualization\n",
        "df_res = pd.crosstab(y_test,np.array(y_pred))\n",
        "df_res = df_res.rename(columns={0:\"Happy\", 1:\"Depressed\"},index ={0:\"Happy\", 1:\"Depressed\"})\n",
        "\n",
        "sns.heatmap(df_res,cmap = 'Blues', annot=True, fmt=\"d\")\n",
        "plt.xlabel(\"Actual\")\n",
        "plt.ylabel(\"Predicted\")\n",
        "plt.title(\"Model Depression Prediction result\")\n",
        "plt.show()"
      ],
      "metadata": {
        "colab": {
          "base_uri": "https://localhost:8080/",
          "height": 295
        },
        "id": "y0z_6cU7adco",
        "outputId": "b93a0f65-7b0f-4a5d-f974-681100b737c2"
      },
      "execution_count": null,
      "outputs": [
        {
          "output_type": "display_data",
          "data": {
            "text/plain": [
              "<Figure size 432x288 with 2 Axes>"
            ],
            "image/png": "[encoded data removed]"
          },
          "metadata": {
            "needs_background": "light"
          }
        }
      ]
    },
    {
      "cell_type": "markdown",
      "source": [
        "### Converting IPYNB to PDF"
      ],
      "metadata": {
        "id": "DB_2Qq_ffaKG"
      }
    },
    {
      "cell_type": "code",
      "source": [
        "!wget -nc https://raw.githubusercontent.com/brpy/colab-pdf/master/colab_pdf.py\n",
        "from colab_pdf import colab_pdf\n",
        "colab_pdf('Sentimental_Analysis_twitter.ipynb')"
      ],
      "metadata": {
        "colab": {
          "base_uri": "https://localhost:8080/"
        },
        "id": "Q_ZVJxjte_QR",
        "outputId": "1870c8c0-7080-4001-d6c2-14f8153bc00f"
      },
      "execution_count": null,
      "outputs": [
        {
          "output_type": "stream",
          "name": "stdout",
          "text": [
            "File ‘colab_pdf.py’ already there; not retrieving.\n",
            "\n",
            "\n",
            "WARNING: apt does not have a stable CLI interface. Use with caution in scripts.\n",
            "\n",
            "\n",
            "WARNING: apt does not have a stable CLI interface. Use with caution in scripts.\n",
            "\n",
            "[NbConvertApp] Converting notebook /content/drive/MyDrive/Colab Notebooks/Sentimental_Analysis_twitter.ipynb to pdf\n",
            "[NbConvertApp] Writing 42989 bytes to ./notebook.tex\n",
            "[NbConvertApp] Building PDF\n",
            "[NbConvertApp] Running xelatex 3 times: ['xelatex', './notebook.tex', '-quiet']\n",
            "[NbConvertApp] Running bibtex 1 time: ['bibtex', './notebook']\n",
            "[NbConvertApp] WARNING | bibtex had problems, most likely because there were no citations\n",
            "[NbConvertApp] PDF successfully created\n",
            "[NbConvertApp] Writing 56481 bytes to /content/drive/My Drive/Sentimental_Analysis_twitter.pdf\n"
          ]
        },
        {
          "output_type": "display_data",
          "data": {
            "text/plain": [
              "<IPython.core.display.Javascript object>"
            ],
            "application/javascript": [
              "\n",
              "    async function download(id, filename, size) {\n",
              "      if (!google.colab.kernel.accessAllowed) {\n",
              "        return;\n",
              "      }\n",
              "      const div = document.createElement('div');\n",
              "      const label = document.createElement('label');\n",
              "      label.textContent = `Downloading \"${filename}\": `;\n",
              "      div.appendChild(label);\n",
              "      const progress = document.createElement('progress');\n",
              "      progress.max = size;\n",
              "      div.appendChild(progress);\n",
              "      document.body.appendChild(div);\n",
              "\n",
              "      const buffers = [];\n",
              "      let downloaded = 0;\n",
              "\n",
              "      const channel = await google.colab.kernel.comms.open(id);\n",
              "      // Send a message to notify the kernel that we're ready.\n",
              "      channel.send({})\n",
              "\n",
              "      for await (const message of channel.messages) {\n",
              "        // Send a message to notify the kernel that we're ready.\n",
              "        channel.send({})\n",
              "        if (message.buffers) {\n",
              "          for (const buffer of message.buffers) {\n",
              "            buffers.push(buffer);\n",
              "            downloaded += buffer.byteLength;\n",
              "            progress.value = downloaded;\n",
              "          }\n",
              "        }\n",
              "      }\n",
              "      const blob = new Blob(buffers, {type: 'application/binary'});\n",
              "      const a = document.createElement('a');\n",
              "      a.href = window.URL.createObjectURL(blob);\n",
              "      a.download = filename;\n",
              "      div.appendChild(a);\n",
              "      a.click();\n",
              "      div.remove();\n",
              "    }\n",
              "  "
            ]
          },
          "metadata": {}
        },
        {
          "output_type": "display_data",
          "data": {
            "text/plain": [
              "<IPython.core.display.Javascript object>"
            ],
            "application/javascript": [
              "download(\"download_163f62dd-12ff-4551-a598-7d6c15fc7bb8\", \"Sentimental_Analysis_twitter.pdf\", 56481)"
            ]
          },
          "metadata": {}
        },
        {
          "output_type": "execute_result",
          "data": {
            "text/plain": [
              "'File ready to be Downloaded and Saved to Drive'"
            ],
            "application/vnd.google.colaboratory.intrinsic+json": {
              "type": "string"
            }
          },
          "metadata": {},
          "execution_count": 72
        }
      ]
    }
  ]
}